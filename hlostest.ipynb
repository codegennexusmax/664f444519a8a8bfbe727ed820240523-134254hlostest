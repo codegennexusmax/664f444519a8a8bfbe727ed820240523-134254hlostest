{
 "cells": [
  {
   "cell_type": "markdown",
   "id": "3bec0b45",
   "metadata": {},
   "source": [
    "***GENERATED CODE FOR hlostest PIPELINE.***"
   ]
  },
  {
   "cell_type": "markdown",
   "id": "281f81ab",
   "metadata": {},
   "source": [
    "***DON'T EDIT THIS CODE.***"
   ]
  },
  {
   "cell_type": "markdown",
   "id": "2737098c",
   "metadata": {},
   "source": [
    "***CONNECTOR FUNCTIONS TO READ DATA.***"
   ]
  },
  {
   "cell_type": "code",
   "execution_count": null,
   "id": "e80140a1",
   "metadata": {},
   "outputs": [],
   "source": [
    "import os\n",
    "import datetime\n",
    "import logging\n",
    "import warnings\n",
    "warnings.filterwarnings('ignore')\n",
    "logging.basicConfig(format='%(levelname)s:%(message)s', level=logging.INFO)\n",
    "\n",
    "\n",
    "class HDFSConnector:\n",
    "\n",
    "    def fetch(spark, config):\n",
    "        ################### INPUT HADOOP HOST PORT TO CONNECT WITH ###############################\n",
    "        hdfs_server = str(os.environ['HDFS_SERVER'])\n",
    "        hdfs_port = int(os.environ['HDFS_PORT'])\n",
    "        df = spark.read.options(header='true', inferschema='true').csv(\n",
    "            f\"hdfs://{hdfs_server}:{hdfs_port}{eval(config)['url']}\", header='true')\n",
    "        display(df.limit(2).toPandas())\n",
    "        return df\n",
    "\n",
    "    def put(df, spark, config):\n",
    "        return df.write.format('csv').options(header='true' if eval(config)[\"is_header\"] == \"Use Header Line\" else 'false',\n",
    "                                              delimiter=eval(config)[\"delimiter\"]).save((\"%s %s\") % (datetime.datetime.now().strftime(\"%Y-%m-%d %H.%M.%S\")+\"_\", eval(config)['url']))\n"
   ]
  },
  {
   "cell_type": "markdown",
   "id": "ac0a878f",
   "metadata": {},
   "source": [
    "***OPERATION FUNCTIONS***"
   ]
  },
  {
   "cell_type": "code",
   "execution_count": null,
   "id": "f9c8d152",
   "metadata": {},
   "outputs": [],
   "source": [
    "import pyspark\n",
    "from dask.dataframe import from_pandas\n",
    "import json\n",
    "\n",
    "\n",
    "def DateTransform(df, functionsData, applyOn=[]):\n",
    "    import dask.dataframe as dd\n",
    "    import pandas as pd\n",
    "    import numpy as np\n",
    "\n",
    "    for functiondata in functionsData:\n",
    "        functiondata = functiondata\n",
    "\n",
    "    dfcp = df\n",
    "    dfcp1 = dfcp\n",
    "    resulttype = dfcp1.select_dtypes(include=[np.datetime64])\n",
    "    for existingdatecols in resulttype.columns:\n",
    "        dfcp[existingdatecols] = dfcp[existingdatecols].apply(\n",
    "            lambda x: x.replace(tzinfo=None))\n",
    "\n",
    "    Dateformat1 = 'YYYY-DD-MM'\n",
    "    Dateformat2 = 'YY/MM/DD'\n",
    "    Dateformat3 = 'DD/MM/YYYY'\n",
    "    Dateformat4 = 'M/D/YY'\n",
    "    NotDateFromat = [Dateformat1, Dateformat2, Dateformat3, Dateformat4]\n",
    "\n",
    "    if 'inputDateFormat' in functiondata:\n",
    "        coldetail = functiondata['column']\n",
    "        for col in coldetail:\n",
    "            colname = col['columnName']\n",
    "        inputFormat = str(functiondata['inputDateFormat'])\n",
    "        functiondata['outputDateFormat']\n",
    "        functiondata['newColumn']\n",
    "    if ('newColumnName' in functiondata):\n",
    "        if inputFormat in NotDateFromat:\n",
    "            NewDateCol = functiondata['newColumnName']\n",
    "            dfcp = dfcp.compute()\n",
    "            dfcp[NewDateCol] = dfcp[colname].apply(\n",
    "                lambda x: pd.to_datetime(x, format='%d/%m/%Y', utc=False))\n",
    "            dfcp[NewDateCol] = dfcp[NewDateCol].apply(\n",
    "                lambda x: x.strftime(\"%Y-%m-%d\"))\n",
    "            dfcp[NewDateCol] = pd.to_datetime(dfcp[NewDateCol], utc=False)\n",
    "            dfcp = dd.from_pandas(dfcp, npartitions=2)\n",
    "            dfcp[NewDateCol] = dfcp[NewDateCol].apply(\n",
    "                lambda x: x.replace(tzinfo=None))\n",
    "    elif (('newColumnName' not in functiondata) and (inputFormat in NotDateFromat)):\n",
    "        dfcp = dfcp.compute()\n",
    "        dfcp[colname] = dfcp[colname].apply(\n",
    "            lambda x: pd.to_datetime(x, format='%d/%m/%Y'))\n",
    "        dfcp[colname] = dfcp[colname].apply(lambda x: x.strftime(\"%Y-%m-%d\"))\n",
    "        dfcp[colname] = pd.to_datetime(dfcp[colname], utc=False)\n",
    "        dfcp = dd.from_pandas(dfcp, npartitions=2)\n",
    "\n",
    "    return dfcp\n",
    "\n",
    "\n",
    "def runDataCleansing(sparkDf, spark, config):\n",
    "    configObj = json.loads(config)\n",
    "    sparkDf.persist(pyspark.StorageLevel.MEMORY_AND_DISK)\n",
    "    df = from_pandas((sparkDf.toPandas()), npartitions=5)\n",
    "    functionList = configObj['functionsApplied']\n",
    "    Data_Cleansing_Methods = {\"replaceBy\": replaceValues,\n",
    "                              \"formula\": calculateFormula,\n",
    "                              \"aggregate\": aggregation,\n",
    "                              \"converttostringtype\": changeToString,\n",
    "                              \"editname\": renameColumns}\n",
    "    for function in functionList:\n",
    "        function['functionName']\n",
    "        df = Data_Cleansing_Methods[function['functionName']](df, function['functionsData'],\n",
    "                                                              function['applyOn'])\n",
    "    sparkDf = spark.createDataFrame(df.compute())\n",
    "\n",
    "    display(sparkDf.limit(2).toPandas())\n",
    "    return sparkDf\n"
   ]
  },
  {
   "cell_type": "markdown",
   "id": "6dae2295",
   "metadata": {},
   "source": [
    "***CONNECTOR FUNCTIONS TO WRITE DATA.***"
   ]
  },
  {
   "cell_type": "code",
   "execution_count": null,
   "id": "8b490b3d",
   "metadata": {},
   "outputs": [],
   "source": [
    "import datetime\n",
    "import requests\n",
    "import datetime\n",
    "import logging\n",
    "import warnings\n",
    "warnings.filterwarnings('ignore')\n",
    "logging.basicConfig(format='%(levelname)s:%(message)s', level=logging.INFO)\n",
    "\n",
    "\n",
    "class NumtraConnector:\n",
    "\n",
    "    def put(inStages, inStagesData, stageId, spark, config):\n",
    "        path = eval(config)['server_url']\n",
    "        baseType = eval(config)['baseType']\n",
    "        results_url = eval(config)['results_url']\n",
    "        server = eval(config)['server']\n",
    "        originalfile = eval(config)['orignalKey']\n",
    "        eval(config)['pathOnly']\n",
    "        filename = eval(config)['filename']\n",
    "        eval(config)['ser']\n",
    "        eval(config)['user']\n",
    "        eval(config)['password']\n",
    "        eval(config)['authSource']\n",
    "        eval(config)['user_id']\n",
    "        eval(config)['parent_id']\n",
    "        eval(config)['project_id']\n",
    "        time = str(int(datetime.datetime.now().timestamp()))\n",
    "\n",
    "        inStagesData[inStages[0]]\n",
    "\n",
    "        print(path)\n",
    "        print(baseType)\n",
    "        print(results_url)\n",
    "        print(server)\n",
    "        print(originalfile)\n",
    "        print(filename)\n",
    "\n",
    "        args = {\n",
    "            'url': path,\n",
    "            'baseType': baseType,\n",
    "            'originalfile': originalfile,\n",
    "            'filename': time + filename\n",
    "        }\n",
    "\n",
    "        response = requests.post(results_url, args)\n",
    "        return response\n"
   ]
  },
  {
   "cell_type": "markdown",
   "id": "64cbd96c",
   "metadata": {},
   "source": [
    "***READING DATAFRAME***"
   ]
  },
  {
   "cell_type": "code",
   "execution_count": null,
   "id": "644bafca",
   "metadata": {},
   "outputs": [],
   "source": [
    "############## CREATE SPARK SESSION ############################ ENTER YOUR SPARK MASTER IP AND PORT TO CONNECT TO SERVER ################\n",
    "from pyspark.sql import SparkSession\n",
    "spark = SparkSession.builder.master('local[1]').getOrCreate()\n",
    "#%run hlostestHooks.ipynb\n",
    "try:\n",
    "\t#sourcePreExecutionHook()\n",
    "\n",
    "\thlosdptetiwzk = HDFSConnector.fetch(spark, \"{'url': '/FileStore/platform/testdata/1716471270058_HLOSDPTest.csv', 'filename': 'HLOSDPTest.csv', 'delimiter': ',', 'file_type': 'Delimeted', 'dbfs_token': '', 'dbfs_domain': '', 'FilePath': '/DataPipelineTest/HLOSDPTest.csv', 'viewFileName': 'HLOSDPTest.csv', 'is_header': 'Use Header Line', 'baseType': 'hdfs', 'server_url': '/nexusMax/NexusMaxPlatform/uploads/platform/', 'results_url': 'http://dnm.bfirst.ai:44040/api/read/hdfs'}\")\n",
    "\n",
    "except Exception as ex: \n",
    "\tlogging.error(ex)\n",
    "#spark.stop()\n"
   ]
  },
  {
   "cell_type": "markdown",
   "id": "25d1d6e1",
   "metadata": {},
   "source": [
    "***PERFORMING OPERATIONS***"
   ]
  },
  {
   "cell_type": "code",
   "execution_count": null,
   "id": "cdaf8b1a",
   "metadata": {},
   "outputs": [],
   "source": [
    "#%run hlostestHooks.ipynb\n",
    "try:\n",
    "\t#operationPreExecutionHook()\n",
    "\n",
    "datapreparation = runDataCleansing(hlosdptetiwzk,spark,json.dumps( {\"url\": \"/FileStore/platform/testdata/1716471270058_HLOSDPTest.csv\", \"source_attributes\": {}, \"DataPrepFile\": \"/FileStore/platform/testdata/1716471270058_HLOSDPTest.csv\", \"data_source\": \"platfiles\", \"startListenerOnly\": 1, \"dateColumnNames\": [\"AdmitDate\"], \"FilePath\": \"/FileStore/platform/extra/664f45cd19a8a8bfbe727eee1716471692/0part.csv\", \"requestRatio\": 0.0, \"totalRows\": 23, \"BasicStats\": {\"missingValues\": 0.0, \"numberOfColumns\": 13, \"numberOfRows\": 23, \"duplicateRowCount\": 0, \"stats\": [{\"column\": \"AdmitDate\", \"alias\": \"AdmitDate\", \"generated\": 0, \"type\": \"date\", \"max\": \"201221\", \"min\": \"201211\", \"mean\": \"\", \"missing\": 0.0, \"stddev\": \"\", \"outliers\": [], \"validation\": []}, {\"column\": \"lengthofstay\", \"alias\": \"lengthofstay\", \"generated\": 0, \"type\": \"numeric\", \"max\": 8, \"min\": 1, \"mean\": 4.391304347826087, \"missing\": 0.0, \"stddev\": 2.29, \"outliers\": [], \"validation\": []}, {\"column\": \"neutrophils\", \"alias\": \"neutrophils\", \"generated\": 0, \"type\": \"real\", \"max\": 21.8, \"min\": 3.6, \"mean\": 10.27826086956522, \"missing\": 0.0, \"stddev\": 3.8, \"outliers\": [3.6, 21.8], \"validation\": []}, {\"column\": \"sodium\", \"alias\": \"sodium\", \"generated\": 0, \"type\": \"real\", \"max\": 144.7573877, \"min\": 130.981629, \"mean\": 137.7188796130435, \"missing\": 0.0, \"stddev\": 3.57, \"outliers\": [144.7573877, 133.8843636, 134.0240141, 134.1186367, 132.0206047, 133.3575542, 130.981629], \"validation\": []}, {\"column\": \"glucose\", \"alias\": \"glucose\", \"generated\": 0, \"type\": \"real\", \"max\": 194.8853273, \"min\": 90.88147925, \"mean\": 140.9149385326087, \"missing\": 0.0, \"stddev\": 29.82, \"outliers\": [], \"validation\": []}, {\"column\": \"bloodureanitro\", \"alias\": \"bloodureanitro\", \"generated\": 0, \"type\": \"numeric\", \"max\": 13, \"min\": 5, \"mean\": 10.347826086956522, \"missing\": 0.0, \"stddev\": 2.39, \"outliers\": [5, 5], \"validation\": []}, {\"column\": \"creatinine\", \"alias\": \"creatinine\", \"generated\": 0, \"type\": \"real\", \"max\": 1.535360486, \"min\": 0.79683431, \"mean\": 1.1209964618260868, \"missing\": 0.0, \"stddev\": 0.23, \"outliers\": [], \"validation\": []}, {\"column\": \"bmi\", \"alias\": \"bmi\", \"generated\": 0, \"type\": \"real\", \"max\": 34.16871074, \"min\": 26.13988457, \"mean\": 30.08735115086957, \"missing\": 0.0, \"stddev\": 2.06, \"outliers\": [], \"validation\": []}, {\"column\": \"pulse\", \"alias\": \"pulse\", \"generated\": 0, \"type\": \"numeric\", \"max\": 95, \"min\": 50, \"mean\": 68.56521739130434, \"missing\": 0.0, \"stddev\": 10.89, \"outliers\": [95], \"validation\": []}, {\"column\": \"respiration\", \"alias\": \"respiration\", \"generated\": 0, \"type\": \"real\", \"max\": 7.8, \"min\": 6.1, \"mean\": 6.582608695652173, \"missing\": 0.0, \"stddev\": 0.39, \"outliers\": [6.1, 6.2, 6.8, 6.1, 7.4, 7.8, 6.2, 7.0, 6.8], \"validation\": []}, {\"column\": \"secondarydiagnosisnonicd9\", \"alias\": \"secondarydiagnosisnonicd9\", \"generated\": 0, \"type\": \"numeric\", \"max\": 7, \"min\": 0, \"mean\": 2.217391304347826, \"missing\": 0.0, \"stddev\": 1.7, \"outliers\": [7], \"validation\": []}, {\"column\": \"facid\", \"alias\": \"facid\", \"generated\": 0, \"type\": \"String\", \"max\": \"E\", \"min\": \"A\", \"mean\": \"\", \"missing\": 0.0, \"stddev\": \"\", \"outliers\": [], \"validation\": []}, {\"column\": \"AdmitDateNew\", \"alias\": \"AdmitDateNew\", \"generated\": 1, \"type\": \"date\", \"max\": \"201221\", \"min\": \"201211\", \"mean\": \"\", \"missing\": 0.0, \"stddev\": \"\", \"outliers\": [], \"validation\": []}]}, \"predictionPowerScore\": [{\"AdmitDate\": 1.0, \"AdmitDateNew\": 0.0, \"bloodureanitro\": 0.0, \"bmi\": 0.0, \"creatinine\": 0.0, \"facid\": 0.0, \"glucose\": 0.0, \"lengthofstay\": 0.0, \"neutrophils\": 0.0, \"pulse\": 0.0, \"respiration\": 0.0, \"secondarydiagnosisnonicd9\": 0.0, \"sodium\": 0.0}, {\"AdmitDate\": 0.0, \"AdmitDateNew\": 1.0, \"bloodureanitro\": 0.0, \"bmi\": 0.0, \"creatinine\": 0.0, \"facid\": 0.0, \"glucose\": 0.0, \"lengthofstay\": 0.0, \"neutrophils\": 0.0, \"pulse\": 0.0, \"respiration\": 0.0, \"secondarydiagnosisnonicd9\": 0.0, \"sodium\": 0.0}, {\"AdmitDate\": 0.0, \"AdmitDateNew\": 0.0, \"bloodureanitro\": 1.0, \"bmi\": 0.0, \"creatinine\": 0.0, \"facid\": 0.0, \"glucose\": 0.0225, \"lengthofstay\": 0.0, \"neutrophils\": 0.0, \"pulse\": 0.0, \"respiration\": 0.0958996212, \"secondarydiagnosisnonicd9\": 0.0, \"sodium\": 0.0}, {\"AdmitDate\": 0.0, \"AdmitDateNew\": 0.0, \"bloodureanitro\": 0.0, \"bmi\": 1.0, \"creatinine\": 0.0, \"facid\": 0.0, \"glucose\": 0.0, \"lengthofstay\": 0.0, \"neutrophils\": 0.0, \"pulse\": 0.0, \"respiration\": 0.0, \"secondarydiagnosisnonicd9\": 0.0, \"sodium\": 0.0}, {\"AdmitDate\": 0.0, \"AdmitDateNew\": 0.0, \"bloodureanitro\": 0.0, \"bmi\": 0.0, \"creatinine\": 1.0, \"facid\": 0.0, \"glucose\": 0.0, \"lengthofstay\": 0.1094448513, \"neutrophils\": 0.0, \"pulse\": 0.0, \"respiration\": 0.0, \"secondarydiagnosisnonicd9\": 0.0, \"sodium\": 0.0}, {\"AdmitDate\": 0.0, \"AdmitDateNew\": 0.0, \"bloodureanitro\": 0.0, \"bmi\": 0.0, \"creatinine\": 0.0, \"facid\": 1.0, \"glucose\": 0.0, \"lengthofstay\": 0.0, \"neutrophils\": 0.2264880952, \"pulse\": 0.0, \"respiration\": 0.0, \"secondarydiagnosisnonicd9\": 0.0625283447, \"sodium\": 0.0}, {\"AdmitDate\": 0.0, \"AdmitDateNew\": 0.0, \"bloodureanitro\": 0.0, \"bmi\": 0.0, \"creatinine\": 0.0, \"facid\": 0.0, \"glucose\": 1.0, \"lengthofstay\": 0.0, \"neutrophils\": 0.0, \"pulse\": 0.0, \"respiration\": 0.0464639494, \"secondarydiagnosisnonicd9\": 0.0, \"sodium\": 0.0}, {\"AdmitDate\": 0.0, \"AdmitDateNew\": 0.0, \"bloodureanitro\": 0.0, \"bmi\": 0.0, \"creatinine\": 0.0, \"facid\": 0.0, \"glucose\": 0.0, \"lengthofstay\": 1.0, \"neutrophils\": 0.0, \"pulse\": 0.0, \"respiration\": 0.0, \"secondarydiagnosisnonicd9\": 0.0, \"sodium\": 0.0}, {\"AdmitDate\": 0.0, \"AdmitDateNew\": 0.0, \"bloodureanitro\": 0.0, \"bmi\": 0.0, \"creatinine\": 0.0, \"facid\": 0.0328276699, \"glucose\": 0.0, \"lengthofstay\": 0.0, \"neutrophils\": 1.0, \"pulse\": 0.0, \"respiration\": 0.0, \"secondarydiagnosisnonicd9\": 0.0, \"sodium\": 0.0}, {\"AdmitDate\": 0.0, \"AdmitDateNew\": 0.0, \"bloodureanitro\": 0.0, \"bmi\": 0.0, \"creatinine\": 0.0, \"facid\": 0.0, \"glucose\": 0.0, \"lengthofstay\": 0.0, \"neutrophils\": 0.0, \"pulse\": 1.0, \"respiration\": 0.0, \"secondarydiagnosisnonicd9\": 0.0, \"sodium\": 0.0}, {\"AdmitDate\": 0.0, \"AdmitDateNew\": 0.0, \"bloodureanitro\": 0.0, \"bmi\": 0.0, \"creatinine\": 0.0, \"facid\": 0.0, \"glucose\": 0.0, \"lengthofstay\": 0.0, \"neutrophils\": 0.0, \"pulse\": 0.0, \"respiration\": 1.0, \"secondarydiagnosisnonicd9\": 0.0, \"sodium\": 0.0}, {\"AdmitDate\": 0.0, \"AdmitDateNew\": 0.0, \"bloodureanitro\": 0.0323924731, \"bmi\": 0.0911290323, \"creatinine\": 0.0, \"facid\": 0.0, \"glucose\": 0.0, \"lengthofstay\": 0.0, \"neutrophils\": 0.0, \"pulse\": 0.0663978495, \"respiration\": 0.0, \"secondarydiagnosisnonicd9\": 1.0, \"sodium\": 0.0}, {\"AdmitDate\": 0.0, \"AdmitDateNew\": 0.0, \"bloodureanitro\": 0.0, \"bmi\": 0.0, \"creatinine\": 0.0, \"facid\": 0.0, \"glucose\": 0.0, \"lengthofstay\": 0.0, \"neutrophils\": 0.0, \"pulse\": 0.0, \"respiration\": 0.0, \"secondarydiagnosisnonicd9\": 0.0, \"sodium\": 1.0}], \"HasBasicStats\": 1, \"functionsApplied\": [{\"functionName\": \"transformDate\", \"applyOn\": [{\"columnName\": \"AdmitDate\", \"type\": \"date\", \"min\": \"201211\", \"max\": \"201221\", \"mean\": \"-\"}], \"functionsData\": [{\"column\": [{\"columnName\": \"AdmitDate\", \"type\": \"date\", \"min\": \"201211\", \"max\": \"201221\", \"mean\": \"-\"}], \"inputDateFormat\": \"MM/DD/YYYY\", \"outputDateFormat\": \"YYYY-MM-DD\", \"newColumn\": \"True\", \"newColumnName\": \"AdmitDateNew\"}]}], \"functionChanges\": [{\"columnName\": \"AdmitDate\", \"functionName\": \"transformDate\", \"Type\": \"date\", \"Parameters\": [{\"column\": [{\"columnName\": \"AdmitDate\", \"type\": \"date\", \"min\": \"201211\", \"max\": \"201221\", \"mean\": \"-\"}], \"inputDateFormat\": \"MM/DD/YYYY\", \"outputDateFormat\": \"YYYY-MM-DD\", \"newColumn\": \"True\", \"newColumnName\": \"AdmitDateNew\"}]}], \"fileheader\": [{\"field\": \"AdmitDate\", \"alias\": \"AdmitDate\", \"generated\": 0, \"position\": 1, \"type\": \"date\"}, {\"field\": \"lengthofstay\", \"alias\": \"lengthofstay\", \"generated\": 0, \"position\": 2, \"type\": \"numeric\"}, {\"field\": \"neutrophils\", \"alias\": \"neutrophils\", \"generated\": 0, \"position\": 3, \"type\": \"real\"}, {\"field\": \"sodium\", \"alias\": \"sodium\", \"generated\": 0, \"position\": 4, \"type\": \"real\"}, {\"field\": \"glucose\", \"alias\": \"glucose\", \"generated\": 0, \"position\": 5, \"type\": \"real\"}, {\"field\": \"bloodureanitro\", \"alias\": \"bloodureanitro\", \"generated\": 0, \"position\": 6, \"type\": \"numeric\"}, {\"field\": \"creatinine\", \"alias\": \"creatinine\", \"generated\": 0, \"position\": 7, \"type\": \"real\"}, {\"field\": \"bmi\", \"alias\": \"bmi\", \"generated\": 0, \"position\": 8, \"type\": \"real\"}, {\"field\": \"pulse\", \"alias\": \"pulse\", \"generated\": 0, \"position\": 9, \"type\": \"numeric\"}, {\"field\": \"respiration\", \"alias\": \"respiration\", \"generated\": 0, \"position\": 10, \"type\": \"real\"}, {\"field\": \"secondarydiagnosisnonicd9\", \"alias\": \"secondarydiagnosisnonicd9\", \"generated\": 0, \"position\": 11, \"type\": \"numeric\"}, {\"field\": \"facid\", \"alias\": \"facid\", \"generated\": 0, \"position\": 12, \"type\": \"String\"}, {\"field\": \"AdmitDateNew\", \"alias\": \"AdmitDateNew\", \"generated\": 1, \"position\": 13, \"type\": \"date\"}]}))\n",
    "\t#operationPostExecutionHook(datapreparation)\n",
    "\n",
    "except Exception as ex: \n",
    "\tlogging.error(ex)\n"
   ]
  },
  {
   "cell_type": "markdown",
   "id": "245cb93d",
   "metadata": {},
   "source": [
    "***WRITING DATAFRAME***"
   ]
  },
  {
   "cell_type": "code",
   "execution_count": null,
   "id": "4e5764d5",
   "metadata": {},
   "outputs": [],
   "source": [
    "#%run hlostestHooks.ipynb\n",
    "try:\n",
    "\t#sinkPreExecutionHook()\n",
    "\n",
    "\tdatapipelinetestoutput = NumtraConnector.fetch(spark, \"{'samplefile': '/FileStore/platform/sampleData/664f45c819a8a8bfbe727eea/part-00000-037063a6-a652-4667-8957-0f560db85146-c000.csv', 'samplecount': 23, 'originalcount': 23, 'orignalKey': '/FileStore/platform/testdata/1716471270058_HLOSDPTest.csv', 'pathOnly': '/DataPipelineTest', 'project_id': '65d6eaa27ff4e119ca47d614', 'parent_id': '65d6eaa27ff4e119ca47d614', 'original_schema': [{'checked': True, 'inherited': True, 'is_categorical': False, 'bad_values': '', 'nullable': 'true', 'field': 'AdmitDate', 'alias': 'AdmitDate', 'type': 'date', 'position': '0'}, {'checked': True, 'inherited': True, 'is_categorical': False, 'bad_values': '', 'nullable': 'true', 'field': 'lengthofstay', 'alias': 'lengthofstay', 'type': 'numeric', 'position': '1'}, {'checked': True, 'inherited': True, 'is_categorical': False, 'bad_values': '', 'nullable': 'true', 'field': 'neutrophils', 'alias': 'neutrophils', 'type': 'real', 'position': '2'}, {'checked': True, 'inherited': True, 'is_categorical': False, 'bad_values': '', 'nullable': 'true', 'field': 'sodium', 'alias': 'sodium', 'type': 'real', 'position': '3'}, {'checked': True, 'inherited': True, 'is_categorical': False, 'bad_values': '', 'nullable': 'true', 'field': 'glucose', 'alias': 'glucose', 'type': 'real', 'position': '4'}, {'checked': True, 'inherited': True, 'is_categorical': False, 'bad_values': '', 'nullable': 'true', 'field': 'bloodureanitro', 'alias': 'bloodureanitro', 'type': 'numeric', 'position': '5'}, {'checked': True, 'inherited': True, 'is_categorical': False, 'bad_values': '', 'nullable': 'true', 'field': 'creatinine', 'alias': 'creatinine', 'type': 'real', 'position': '6'}, {'checked': True, 'inherited': True, 'is_categorical': False, 'bad_values': '', 'nullable': 'true', 'field': 'bmi', 'alias': 'bmi', 'type': 'real', 'position': '7'}, {'checked': True, 'inherited': True, 'is_categorical': False, 'bad_values': '', 'nullable': 'true', 'field': 'pulse', 'alias': 'pulse', 'type': 'numeric', 'position': '8'}, {'checked': True, 'inherited': True, 'is_categorical': False, 'bad_values': '', 'nullable': 'true', 'field': 'respiration', 'alias': 'respiration', 'type': 'real', 'position': '9'}, {'checked': True, 'inherited': True, 'is_categorical': False, 'bad_values': '', 'nullable': 'true', 'field': 'secondarydiagnosisnonicd9', 'alias': 'secondarydiagnosisnonicd9', 'type': 'numeric', 'position': '10'}, {'checked': True, 'inherited': True, 'is_categorical': False, 'bad_values': '', 'nullable': 'true', 'field': 'facid', 'alias': 'facid', 'type': 'String', 'position': '11'}, {'checked': True, 'inherited': True, 'is_categorical': False, 'bad_values': '', 'nullable': 'true', 'field': 'AdmitDateNew', 'alias': 'AdmitDateNew', 'type': 'date', 'position': '13'}], 'actual_schema': [{'checked': True, 'inherited': True, 'is_categorical': False, 'bad_values': '', 'nullable': 'true', 'field': 'AdmitDate', 'alias': 'AdmitDate', 'type': 'date', 'position': '0'}, {'checked': True, 'inherited': True, 'is_categorical': False, 'bad_values': '', 'nullable': 'true', 'field': 'lengthofstay', 'alias': 'lengthofstay', 'type': 'numeric', 'position': '1'}, {'checked': True, 'inherited': True, 'is_categorical': False, 'bad_values': '', 'nullable': 'true', 'field': 'neutrophils', 'alias': 'neutrophils', 'type': 'real', 'position': '2'}, {'checked': True, 'inherited': True, 'is_categorical': False, 'bad_values': '', 'nullable': 'true', 'field': 'sodium', 'alias': 'sodium', 'type': 'real', 'position': '3'}, {'checked': True, 'inherited': True, 'is_categorical': False, 'bad_values': '', 'nullable': 'true', 'field': 'glucose', 'alias': 'glucose', 'type': 'real', 'position': '4'}, {'checked': True, 'inherited': True, 'is_categorical': False, 'bad_values': '', 'nullable': 'true', 'field': 'bloodureanitro', 'alias': 'bloodureanitro', 'type': 'numeric', 'position': '5'}, {'checked': True, 'inherited': True, 'is_categorical': False, 'bad_values': '', 'nullable': 'true', 'field': 'creatinine', 'alias': 'creatinine', 'type': 'real', 'position': '6'}, {'checked': True, 'inherited': True, 'is_categorical': False, 'bad_values': '', 'nullable': 'true', 'field': 'bmi', 'alias': 'bmi', 'type': 'real', 'position': '7'}, {'checked': True, 'inherited': True, 'is_categorical': False, 'bad_values': '', 'nullable': 'true', 'field': 'pulse', 'alias': 'pulse', 'type': 'numeric', 'position': '8'}, {'checked': True, 'inherited': True, 'is_categorical': False, 'bad_values': '', 'nullable': 'true', 'field': 'respiration', 'alias': 'respiration', 'type': 'real', 'position': '9'}, {'checked': True, 'inherited': True, 'is_categorical': False, 'bad_values': '', 'nullable': 'true', 'field': 'secondarydiagnosisnonicd9', 'alias': 'secondarydiagnosisnonicd9', 'type': 'numeric', 'position': '10'}, {'checked': True, 'inherited': True, 'is_categorical': False, 'bad_values': '', 'nullable': 'true', 'field': 'facid', 'alias': 'facid', 'type': 'String', 'position': '11'}], 'server': 'https://dnm.bfirst.ai:443', 'server_url': '/nexusMax/NexusMaxPlatform/uploads/platform/', 'delimiter': ',', 'file_type': 'Delimeted', 'filename': 'HLOSDpOp.csv', 'token': '', 'domain': '', 'is_header': 'Use Header Line', 'url': '/FileStore/platform/uploadedSourceFiles/part-00000-3733d8ae-f6fb-4428-9b40-dab282a103a2-c000.csv', 'results_url': 'http://dnm.bfirst.ai:44040/api/read/hdfs'}\")\n",
    "\n",
    "except Exception as ex: \n",
    "\tlogging.error(ex)\n"
   ]
  }
 ],
 "metadata": {},
 "nbformat": 4,
 "nbformat_minor": 5
}
